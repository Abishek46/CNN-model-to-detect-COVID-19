{
  "nbformat": 4,
  "nbformat_minor": 0,
  "metadata": {
    "colab": {
      "provenance": [],
      "gpuType": "T4",
      "authorship_tag": "ABX9TyPhhtegA3qBK+BwHZ9rsJDt",
      "include_colab_link": true
    },
    "kernelspec": {
      "name": "python3",
      "display_name": "Python 3"
    },
    "language_info": {
      "name": "python"
    },
    "accelerator": "GPU"
  },
  "cells": [
    {
      "cell_type": "markdown",
      "metadata": {
        "id": "view-in-github",
        "colab_type": "text"
      },
      "source": [
        "<a href=\"https://colab.research.google.com/github/Abishek46/CNN-model-to-detect-COVID-19/blob/main/CNN_model_to_detect_COVID_19.ipynb\" target=\"_parent\"><img src=\"https://colab.research.google.com/assets/colab-badge.svg\" alt=\"Open In Colab\"/></a>"
      ]
    },
    {
      "cell_type": "markdown",
      "source": [
        "CNN model to detect COVID-19"
      ],
      "metadata": {
        "id": "mZfU0XasDLnZ"
      }
    },
    {
      "cell_type": "markdown",
      "source": [
        "Importing libraries"
      ],
      "metadata": {
        "id": "7ONfrE2xDN9o"
      }
    },
    {
      "cell_type": "code",
      "execution_count": 1,
      "metadata": {
        "id": "_sap-Ha4vOLG"
      },
      "outputs": [],
      "source": [
        "import numpy as np\n",
        "import cv2\n",
        "import os\n",
        "import matplotlib.pyplot as plt\n",
        "import random\n",
        "from sklearn.model_selection import train_test_split\n",
        "from keras.models import Sequential\n",
        "from keras.layers import Conv2D, MaxPooling2D, Flatten, Dense\n",
        "from keras.preprocessing.image import ImageDataGenerator"
      ]
    },
    {
      "cell_type": "code",
      "source": [
        "from google.colab import drive\n",
        "drive.mount('/content/drive')"
      ],
      "metadata": {
        "colab": {
          "base_uri": "https://localhost:8080/"
        },
        "id": "A2DyWyIErsE7",
        "outputId": "e6271dad-e694-4d4c-c6c4-9b552a18f9dc"
      },
      "execution_count": 2,
      "outputs": [
        {
          "output_type": "stream",
          "name": "stdout",
          "text": [
            "Mounted at /content/drive\n"
          ]
        }
      ]
    },
    {
      "cell_type": "markdown",
      "source": [
        "\n",
        "Setting the paths of the dataset and images to be classified"
      ],
      "metadata": {
        "id": "HLdNNpwbDQfh"
      }
    },
    {
      "cell_type": "code",
      "source": [
        "\n",
        "dataset_path = '/content/drive/MyDrive/abishek/covid19/covid19/train'\n",
        "test_dir = '/content/drive/MyDrive/abishek/covid19/covid19/test'"
      ],
      "metadata": {
        "id": "Zar5T0covplQ"
      },
      "execution_count": 3,
      "outputs": []
    },
    {
      "cell_type": "code",
      "source": [
        "img_size = 128\n",
        "num_classes = len(os.listdir(dataset_path))\n",
        "batch_size = 32"
      ],
      "metadata": {
        "id": "pJjplM01vuY3"
      },
      "execution_count": 4,
      "outputs": []
    },
    {
      "cell_type": "markdown",
      "source": [
        "Creating the image and the labels"
      ],
      "metadata": {
        "id": "wV8NzL8XDTmC"
      }
    },
    {
      "cell_type": "code",
      "source": [
        "from sklearn.preprocessing import LabelBinarizer\n",
        "\n",
        "def load_dataset():\n",
        "    images = []\n",
        "    lbls = []\n",
        "    labels = []\n",
        "    classes = os.listdir(dataset_path)\n",
        "    label_binarizer = LabelBinarizer()\n",
        "    for class_name in classes:\n",
        "        class_path = os.path.join(dataset_path, class_name)\n",
        "        if os.path.isdir(class_path):  # Check if the current item is a directory\n",
        "            for image_name in os.listdir(class_path):\n",
        "                image_path = os.path.join(class_path, image_name)\n",
        "                try:\n",
        "                    image = cv2.imread(image_path)\n",
        "                    if image is not None:  # Check if the image was loaded successfully\n",
        "                        image = cv2.resize(image, (img_size, img_size))\n",
        "                        images.append(image)\n",
        "                        lbls.append(class_name)\n",
        "                    else:\n",
        "                        print(f\"Skipping invalid image: {image_path}\")\n",
        "                except Exception as e:\n",
        "                    print(f\"Error loading image: {image_path}\")\n",
        "                    print(str(e))\n",
        "    # Convert labels to unique binary arrays\n",
        "    labels = label_binarizer.fit_transform(lbls)\n",
        "    return images, lbls, labels"
      ],
      "metadata": {
        "id": "UikKKluUv0mb"
      },
      "execution_count": 5,
      "outputs": []
    },
    {
      "cell_type": "code",
      "source": [
        "images, lbls, labels = load_dataset()"
      ],
      "metadata": {
        "id": "bx-woEqfv_PF"
      },
      "execution_count": 6,
      "outputs": []
    },
    {
      "cell_type": "code",
      "source": [
        "# Create a set to keep track of unique labels\n",
        "printed_labels = set()\n",
        "# Create a counter to keep track fo the label count\n",
        "no_of_labels = 0\n",
        "# Print lbls and corresponding labels\n",
        "for labelName, arr in zip(lbls, labels):\n",
        "    # Check if the label has already been printed\n",
        "    if labelName not in printed_labels:\n",
        "        # Print the disease and array\n",
        "        print(\"Label:\", labelName, \", Array:\", arr)\n",
        "        # Add the disease to the set of printed diseases\n",
        "        printed_labels.add(labelName)\n",
        "        # Increment the disease counter\n",
        "        no_of_labels = no_of_labels + 1\n",
        "\n",
        "print()\n",
        "print(\"No. of labels:\", no_of_labels)"
      ],
      "metadata": {
        "id": "ZN9sfZtDwFN2",
        "colab": {
          "base_uri": "https://localhost:8080/"
        },
        "outputId": "f4ac549d-1cbf-448a-884e-ca07c475948d"
      },
      "execution_count": 7,
      "outputs": [
        {
          "output_type": "stream",
          "name": "stdout",
          "text": [
            "Label: Viral Pneumonia , Array: [0 0 1]\n",
            "Label: Covid , Array: [1 0 0]\n",
            "Label: Normal , Array: [0 1 0]\n",
            "\n",
            "No. of labels: 3\n"
          ]
        }
      ]
    },
    {
      "cell_type": "markdown",
      "source": [
        "Preprocessing the dataset"
      ],
      "metadata": {
        "id": "b2uXSmqIDW1Z"
      }
    },
    {
      "cell_type": "code",
      "source": [
        "def preprocess_dataset(images, labels):\n",
        "    images = np.array(images)\n",
        "    images = images.astype('float32') / 255.0\n",
        "    labels = np.array(labels)\n",
        "    return images, labels"
      ],
      "metadata": {
        "id": "BUz61PtmwHpg"
      },
      "execution_count": 8,
      "outputs": []
    },
    {
      "cell_type": "code",
      "source": [
        "images, labels = preprocess_dataset(images, labels)"
      ],
      "metadata": {
        "id": "4qA-bXCywMFt"
      },
      "execution_count": 9,
      "outputs": []
    },
    {
      "cell_type": "code",
      "source": [
        "print(labels)"
      ],
      "metadata": {
        "id": "ZUyAb_58wPmq",
        "colab": {
          "base_uri": "https://localhost:8080/"
        },
        "outputId": "a2abd7ac-b320-4e9f-9e1d-4019814811d8"
      },
      "execution_count": 10,
      "outputs": [
        {
          "output_type": "stream",
          "name": "stdout",
          "text": [
            "[[0 0 1]\n",
            " [0 0 1]\n",
            " [0 0 1]\n",
            " [0 0 1]\n",
            " [0 0 1]\n",
            " [0 0 1]\n",
            " [0 0 1]\n",
            " [0 0 1]\n",
            " [0 0 1]\n",
            " [0 0 1]\n",
            " [0 0 1]\n",
            " [0 0 1]\n",
            " [0 0 1]\n",
            " [0 0 1]\n",
            " [0 0 1]\n",
            " [0 0 1]\n",
            " [0 0 1]\n",
            " [0 0 1]\n",
            " [0 0 1]\n",
            " [0 0 1]\n",
            " [0 0 1]\n",
            " [0 0 1]\n",
            " [0 0 1]\n",
            " [0 0 1]\n",
            " [0 0 1]\n",
            " [0 0 1]\n",
            " [0 0 1]\n",
            " [0 0 1]\n",
            " [0 0 1]\n",
            " [0 0 1]\n",
            " [0 0 1]\n",
            " [0 0 1]\n",
            " [0 0 1]\n",
            " [0 0 1]\n",
            " [0 0 1]\n",
            " [0 0 1]\n",
            " [0 0 1]\n",
            " [0 0 1]\n",
            " [0 0 1]\n",
            " [0 0 1]\n",
            " [0 0 1]\n",
            " [0 0 1]\n",
            " [0 0 1]\n",
            " [0 0 1]\n",
            " [0 0 1]\n",
            " [0 0 1]\n",
            " [0 0 1]\n",
            " [0 0 1]\n",
            " [0 0 1]\n",
            " [0 0 1]\n",
            " [0 0 1]\n",
            " [0 0 1]\n",
            " [0 0 1]\n",
            " [0 0 1]\n",
            " [0 0 1]\n",
            " [0 0 1]\n",
            " [0 0 1]\n",
            " [0 0 1]\n",
            " [0 0 1]\n",
            " [0 0 1]\n",
            " [0 0 1]\n",
            " [0 0 1]\n",
            " [0 0 1]\n",
            " [0 0 1]\n",
            " [0 0 1]\n",
            " [0 0 1]\n",
            " [0 0 1]\n",
            " [0 0 1]\n",
            " [0 0 1]\n",
            " [0 0 1]\n",
            " [1 0 0]\n",
            " [1 0 0]\n",
            " [1 0 0]\n",
            " [1 0 0]\n",
            " [1 0 0]\n",
            " [1 0 0]\n",
            " [1 0 0]\n",
            " [1 0 0]\n",
            " [1 0 0]\n",
            " [1 0 0]\n",
            " [1 0 0]\n",
            " [1 0 0]\n",
            " [1 0 0]\n",
            " [1 0 0]\n",
            " [1 0 0]\n",
            " [1 0 0]\n",
            " [1 0 0]\n",
            " [1 0 0]\n",
            " [1 0 0]\n",
            " [1 0 0]\n",
            " [1 0 0]\n",
            " [1 0 0]\n",
            " [1 0 0]\n",
            " [1 0 0]\n",
            " [1 0 0]\n",
            " [1 0 0]\n",
            " [1 0 0]\n",
            " [1 0 0]\n",
            " [1 0 0]\n",
            " [1 0 0]\n",
            " [1 0 0]\n",
            " [1 0 0]\n",
            " [1 0 0]\n",
            " [1 0 0]\n",
            " [1 0 0]\n",
            " [1 0 0]\n",
            " [1 0 0]\n",
            " [1 0 0]\n",
            " [1 0 0]\n",
            " [1 0 0]\n",
            " [1 0 0]\n",
            " [1 0 0]\n",
            " [1 0 0]\n",
            " [1 0 0]\n",
            " [1 0 0]\n",
            " [1 0 0]\n",
            " [1 0 0]\n",
            " [1 0 0]\n",
            " [1 0 0]\n",
            " [1 0 0]\n",
            " [1 0 0]\n",
            " [1 0 0]\n",
            " [1 0 0]\n",
            " [1 0 0]\n",
            " [1 0 0]\n",
            " [1 0 0]\n",
            " [1 0 0]\n",
            " [1 0 0]\n",
            " [1 0 0]\n",
            " [1 0 0]\n",
            " [1 0 0]\n",
            " [1 0 0]\n",
            " [1 0 0]\n",
            " [1 0 0]\n",
            " [1 0 0]\n",
            " [1 0 0]\n",
            " [1 0 0]\n",
            " [1 0 0]\n",
            " [1 0 0]\n",
            " [1 0 0]\n",
            " [1 0 0]\n",
            " [1 0 0]\n",
            " [1 0 0]\n",
            " [1 0 0]\n",
            " [1 0 0]\n",
            " [1 0 0]\n",
            " [1 0 0]\n",
            " [1 0 0]\n",
            " [1 0 0]\n",
            " [1 0 0]\n",
            " [1 0 0]\n",
            " [1 0 0]\n",
            " [1 0 0]\n",
            " [1 0 0]\n",
            " [1 0 0]\n",
            " [1 0 0]\n",
            " [1 0 0]\n",
            " [1 0 0]\n",
            " [1 0 0]\n",
            " [1 0 0]\n",
            " [1 0 0]\n",
            " [1 0 0]\n",
            " [1 0 0]\n",
            " [1 0 0]\n",
            " [1 0 0]\n",
            " [1 0 0]\n",
            " [1 0 0]\n",
            " [1 0 0]\n",
            " [1 0 0]\n",
            " [1 0 0]\n",
            " [1 0 0]\n",
            " [1 0 0]\n",
            " [1 0 0]\n",
            " [1 0 0]\n",
            " [1 0 0]\n",
            " [1 0 0]\n",
            " [1 0 0]\n",
            " [1 0 0]\n",
            " [1 0 0]\n",
            " [1 0 0]\n",
            " [1 0 0]\n",
            " [0 1 0]\n",
            " [0 1 0]\n",
            " [0 1 0]\n",
            " [0 1 0]\n",
            " [0 1 0]\n",
            " [0 1 0]\n",
            " [0 1 0]\n",
            " [0 1 0]\n",
            " [0 1 0]\n",
            " [0 1 0]\n",
            " [0 1 0]\n",
            " [0 1 0]\n",
            " [0 1 0]\n",
            " [0 1 0]\n",
            " [0 1 0]\n",
            " [0 1 0]\n",
            " [0 1 0]\n",
            " [0 1 0]\n",
            " [0 1 0]\n",
            " [0 1 0]\n",
            " [0 1 0]\n",
            " [0 1 0]\n",
            " [0 1 0]\n",
            " [0 1 0]\n",
            " [0 1 0]\n",
            " [0 1 0]\n",
            " [0 1 0]\n",
            " [0 1 0]\n",
            " [0 1 0]\n",
            " [0 1 0]\n",
            " [0 1 0]\n",
            " [0 1 0]\n",
            " [0 1 0]\n",
            " [0 1 0]\n",
            " [0 1 0]\n",
            " [0 1 0]\n",
            " [0 1 0]\n",
            " [0 1 0]\n",
            " [0 1 0]\n",
            " [0 1 0]\n",
            " [0 1 0]\n",
            " [0 1 0]\n",
            " [0 1 0]\n",
            " [0 1 0]\n",
            " [0 1 0]\n",
            " [0 1 0]\n",
            " [0 1 0]\n",
            " [0 1 0]\n",
            " [0 1 0]\n",
            " [0 1 0]\n",
            " [0 1 0]\n",
            " [0 1 0]\n",
            " [0 1 0]\n",
            " [0 1 0]\n",
            " [0 1 0]\n",
            " [0 1 0]\n",
            " [0 1 0]\n",
            " [0 1 0]\n",
            " [0 1 0]\n",
            " [0 1 0]\n",
            " [0 1 0]\n",
            " [0 1 0]\n",
            " [0 1 0]\n",
            " [0 1 0]\n",
            " [0 1 0]\n",
            " [0 1 0]\n",
            " [0 1 0]\n",
            " [0 1 0]\n",
            " [0 1 0]\n",
            " [0 1 0]]\n"
          ]
        }
      ]
    },
    {
      "cell_type": "markdown",
      "source": [
        "Creating the Convolutional Neural Network (CNN)\n",
        "Splitting the data into a training and testing set"
      ],
      "metadata": {
        "id": "-cLLyEPJDaP4"
      }
    },
    {
      "cell_type": "code",
      "source": [
        "train_images, test_images, train_labels, test_labels = train_test_split(images, labels, test_size=0.2, random_state=42)"
      ],
      "metadata": {
        "id": "rc2PHLzRwYCy"
      },
      "execution_count": 11,
      "outputs": []
    },
    {
      "cell_type": "markdown",
      "source": [
        "Creating the CNN model"
      ],
      "metadata": {
        "id": "xDNaiPXFDdpS"
      }
    },
    {
      "cell_type": "code",
      "source": [
        "model = Sequential()\n",
        "model.add(Conv2D(32, (3, 3), activation='relu', input_shape=(img_size, img_size, 3)))\n",
        "model.add(MaxPooling2D((2, 2)))\n",
        "model.add(Conv2D(64, (3, 3), activation='relu'))\n",
        "model.add(MaxPooling2D((2, 2)))\n",
        "model.add(Conv2D(128, (3, 3), activation='relu'))\n",
        "model.add(MaxPooling2D((2, 2)))\n",
        "model.add(Flatten())\n",
        "model.add(Dense(128, activation='relu'))\n",
        "model.add(Dense(num_classes, activation='softmax'))"
      ],
      "metadata": {
        "id": "T_OX32w8wljY"
      },
      "execution_count": 12,
      "outputs": []
    },
    {
      "cell_type": "markdown",
      "source": [
        "\n",
        "Compiling the CNN model"
      ],
      "metadata": {
        "id": "fhGsE_1KDfxh"
      }
    },
    {
      "cell_type": "code",
      "source": [
        "model.compile(optimizer='adam', loss='categorical_crossentropy', metrics=['accuracy'])"
      ],
      "metadata": {
        "id": "mUFK8uIHwmwp"
      },
      "execution_count": 13,
      "outputs": []
    },
    {
      "cell_type": "markdown",
      "source": [
        "Augmenting the training data"
      ],
      "metadata": {
        "id": "swGH903UDiJx"
      }
    },
    {
      "cell_type": "code",
      "source": [
        "data_generator = ImageDataGenerator(rotation_range=20, width_shift_range=0.1, height_shift_range=0.1, horizontal_flip=True)\n",
        "data_generator.fit(train_images)"
      ],
      "metadata": {
        "id": "mQXryyj-wq7r"
      },
      "execution_count": 14,
      "outputs": []
    },
    {
      "cell_type": "markdown",
      "source": [
        "Training the model with the training data"
      ],
      "metadata": {
        "id": "T_TOEHsxDkzA"
      }
    },
    {
      "cell_type": "code",
      "source": [
        "history = model.fit(data_generator.flow(train_images, train_labels, batch_size=batch_size), steps_per_epoch=len(train_images) // batch_size, epochs=35)\n"
      ],
      "metadata": {
        "id": "BHSE2Cr0w0T_",
        "colab": {
          "base_uri": "https://localhost:8080/"
        },
        "outputId": "652bf725-d412-47b6-e5d3-6627b4ecdb92"
      },
      "execution_count": 15,
      "outputs": [
        {
          "output_type": "stream",
          "name": "stdout",
          "text": [
            "Epoch 1/35\n",
            "6/6 [==============================] - 12s 105ms/step - loss: 1.3234 - accuracy: 0.3214\n",
            "Epoch 2/35\n",
            "6/6 [==============================] - 1s 185ms/step - loss: 1.0851 - accuracy: 0.4524\n",
            "Epoch 3/35\n",
            "6/6 [==============================] - 1s 101ms/step - loss: 1.0284 - accuracy: 0.5417\n",
            "Epoch 4/35\n",
            "6/6 [==============================] - 1s 125ms/step - loss: 0.8688 - accuracy: 0.6354\n",
            "Epoch 5/35\n",
            "6/6 [==============================] - 1s 100ms/step - loss: 0.7305 - accuracy: 0.6905\n",
            "Epoch 6/35\n",
            "6/6 [==============================] - 1s 97ms/step - loss: 0.5248 - accuracy: 0.7798\n",
            "Epoch 7/35\n",
            "6/6 [==============================] - 1s 97ms/step - loss: 0.4315 - accuracy: 0.8631\n",
            "Epoch 8/35\n",
            "6/6 [==============================] - 1s 97ms/step - loss: 0.4443 - accuracy: 0.8095\n",
            "Epoch 9/35\n",
            "6/6 [==============================] - 1s 100ms/step - loss: 0.8264 - accuracy: 0.7202\n",
            "Epoch 10/35\n",
            "6/6 [==============================] - 1s 115ms/step - loss: 0.5944 - accuracy: 0.7321\n",
            "Epoch 11/35\n",
            "6/6 [==============================] - 1s 116ms/step - loss: 0.5000 - accuracy: 0.8229\n",
            "Epoch 12/35\n",
            "6/6 [==============================] - 1s 97ms/step - loss: 0.3846 - accuracy: 0.8810\n",
            "Epoch 13/35\n",
            "6/6 [==============================] - 1s 217ms/step - loss: 0.4221 - accuracy: 0.8333\n",
            "Epoch 14/35\n",
            "6/6 [==============================] - 1s 218ms/step - loss: 0.3242 - accuracy: 0.8750\n",
            "Epoch 15/35\n",
            "6/6 [==============================] - 1s 97ms/step - loss: 0.2820 - accuracy: 0.8810\n",
            "Epoch 16/35\n",
            "6/6 [==============================] - 1s 121ms/step - loss: 0.3183 - accuracy: 0.8571\n",
            "Epoch 17/35\n",
            "6/6 [==============================] - 1s 115ms/step - loss: 0.3359 - accuracy: 0.8452\n",
            "Epoch 18/35\n",
            "6/6 [==============================] - 1s 99ms/step - loss: 0.3751 - accuracy: 0.8155\n",
            "Epoch 19/35\n",
            "6/6 [==============================] - 1s 100ms/step - loss: 0.3118 - accuracy: 0.8571\n",
            "Epoch 20/35\n",
            "6/6 [==============================] - 1s 104ms/step - loss: 0.4090 - accuracy: 0.8333\n",
            "Epoch 21/35\n",
            "6/6 [==============================] - 1s 96ms/step - loss: 0.2861 - accuracy: 0.8810\n",
            "Epoch 22/35\n",
            "6/6 [==============================] - 1s 97ms/step - loss: 0.2896 - accuracy: 0.8869\n",
            "Epoch 23/35\n",
            "6/6 [==============================] - 1s 102ms/step - loss: 0.2858 - accuracy: 0.9048\n",
            "Epoch 24/35\n",
            "6/6 [==============================] - 1s 99ms/step - loss: 0.2769 - accuracy: 0.8988\n",
            "Epoch 25/35\n",
            "6/6 [==============================] - 1s 210ms/step - loss: 0.3036 - accuracy: 0.8802\n",
            "Epoch 26/35\n",
            "6/6 [==============================] - 1s 182ms/step - loss: 0.2670 - accuracy: 0.8929\n",
            "Epoch 27/35\n",
            "6/6 [==============================] - 1s 180ms/step - loss: 0.2065 - accuracy: 0.9286\n",
            "Epoch 28/35\n",
            "6/6 [==============================] - 1s 99ms/step - loss: 0.2013 - accuracy: 0.9464\n",
            "Epoch 29/35\n",
            "6/6 [==============================] - 1s 99ms/step - loss: 0.2142 - accuracy: 0.9107\n",
            "Epoch 30/35\n",
            "6/6 [==============================] - 1s 98ms/step - loss: 0.1851 - accuracy: 0.9226\n",
            "Epoch 31/35\n",
            "6/6 [==============================] - 1s 100ms/step - loss: 0.2135 - accuracy: 0.8988\n",
            "Epoch 32/35\n",
            "6/6 [==============================] - 1s 115ms/step - loss: 0.2305 - accuracy: 0.8906\n",
            "Epoch 33/35\n",
            "6/6 [==============================] - 1s 99ms/step - loss: 0.1964 - accuracy: 0.9226\n",
            "Epoch 34/35\n",
            "6/6 [==============================] - 1s 99ms/step - loss: 0.2136 - accuracy: 0.9226\n",
            "Epoch 35/35\n",
            "6/6 [==============================] - 1s 98ms/step - loss: 0.3050 - accuracy: 0.8929\n"
          ]
        }
      ]
    },
    {
      "cell_type": "code",
      "source": [
        "# Plot accuracy\n",
        "plt.plot(history.history['accuracy'])\n",
        "plt.title('Model Accuracy')\n",
        "plt.xlabel('Epoch')\n",
        "plt.ylabel('Accuracy')\n",
        "plt.legend(['train', 'validation'], loc='upper left')\n",
        "plt.show()\n",
        "\n",
        "# Plot loss\n",
        "plt.plot(history.history['loss'])\n",
        "plt.title('Model Loss')\n",
        "plt.xlabel('Epoch')\n",
        "plt.ylabel('Loss')\n",
        "plt.legend(['train', 'validation'], loc='upper right')\n",
        "plt.show()"
      ],
      "metadata": {
        "id": "ibk0eihAw7k2",
        "colab": {
          "base_uri": "https://localhost:8080/",
          "height": 927
        },
        "outputId": "68a5bce5-8d2a-4158-bb9d-37cdc5df05d6"
      },
      "execution_count": 16,
      "outputs": [
        {
          "output_type": "display_data",
          "data": {
            "text/plain": [
              "<Figure size 640x480 with 1 Axes>"
            ],
            "image/png": "[encoded data removed]"
          },
          "metadata": {}
        },
        {
          "output_type": "display_data",
          "data": {
            "text/plain": [
              "<Figure size 640x480 with 1 Axes>"
            ],
            "image/png": "[encoded data removed]"
          },
          "metadata": {}
        }
      ]
    },
    {
      "cell_type": "code",
      "source": [
        "# Evaluate the model\n",
        "loss, accuracy = model.evaluate(test_images, test_labels)\n",
        "print(\"Test Loss:\", loss)\n",
        "print(\"Test Accuracy:\", accuracy)"
      ],
      "metadata": {
        "id": "TmPV9eNLxBVW",
        "colab": {
          "base_uri": "https://localhost:8080/"
        },
        "outputId": "8d117063-f562-4e99-b52b-6d250cead8ae"
      },
      "execution_count": 17,
      "outputs": [
        {
          "output_type": "stream",
          "name": "stdout",
          "text": [
            "2/2 [==============================] - 0s 189ms/step - loss: 0.3879 - accuracy: 0.9020\n",
            "Test Loss: 0.387937068939209\n",
            "Test Accuracy: 0.9019607901573181\n"
          ]
        }
      ]
    },
    {
      "cell_type": "code",
      "source": [
        "images_to_be_classified = os.listdir(test_dir)\n",
        "resized_images = []"
      ],
      "metadata": {
        "id": "OdQJjUgLxDle"
      },
      "execution_count": 18,
      "outputs": []
    },
    {
      "cell_type": "code",
      "source": [
        "for image_name in images_to_be_classified:\n",
        "    # Construct the full path to the image\n",
        "    image_path = os.path.join(test_dir, image_name)\n",
        "    # Load the image using OpenCV\n",
        "    image = cv2.imread(image_path)\n",
        "    # Resize the image\n",
        "    resized_image = cv2.resize(image, (img_size, img_size))\n",
        "    # Append the resized image to the list\n",
        "    resized_images.append(resized_image)"
      ],
      "metadata": {
        "id": "X4NnIsHbxERg"
      },
      "execution_count": 19,
      "outputs": []
    },
    {
      "cell_type": "code",
      "source": [
        "resized_images = np.array(resized_images)"
      ],
      "metadata": {
        "id": "UByvhPmMxLrB"
      },
      "execution_count": 20,
      "outputs": []
    },
    {
      "cell_type": "code",
      "source": [
        "resized_images = resized_images / 255.0"
      ],
      "metadata": {
        "id": "5eQYqgLcxOAW"
      },
      "execution_count": 21,
      "outputs": []
    },
    {
      "cell_type": "code",
      "source": [
        "predictions = model.predict(resized_images)"
      ],
      "metadata": {
        "colab": {
          "base_uri": "https://localhost:8080/"
        },
        "id": "KExmKtRnt4xB",
        "outputId": "68c334bc-f5ac-4c82-d293-d89c664ca4b3"
      },
      "execution_count": 27,
      "outputs": [
        {
          "output_type": "stream",
          "name": "stdout",
          "text": [
            "2/2 [==============================] - 1s 201ms/step\n"
          ]
        }
      ]
    },
    {
      "cell_type": "code",
      "source": [
        "printed_labels = list(printed_labels)\n",
        "printed_labels.sort()\n",
        "print(printed_labels)"
      ],
      "metadata": {
        "id": "QpLK6UfjxO1w",
        "colab": {
          "base_uri": "https://localhost:8080/"
        },
        "outputId": "eb3b5a1c-35e8-485a-87d3-3286817f18f6"
      },
      "execution_count": 22,
      "outputs": [
        {
          "output_type": "stream",
          "name": "stdout",
          "text": [
            "['Covid', 'Normal', 'Viral Pneumonia']\n"
          ]
        }
      ]
    },
    {
      "cell_type": "markdown",
      "source": [
        "Printing image names along with their corresponding labels"
      ],
      "metadata": {
        "id": "12Dqrw-CDpWC"
      }
    },
    {
      "cell_type": "code",
      "source": [
        "for i in range(len(images_to_be_classified)):\n",
        "    image_name = images_to_be_classified[i]\n",
        "    prediction = predictions[i]\n",
        "    pred_label = \"\"\n",
        "    rounded_prediction = np.round(prediction)\n",
        "    for i in range(len(rounded_prediction)):\n",
        "        if rounded_prediction[i] == 1:\n",
        "            labelName = printed_labels[i]\n",
        "    print(\"Image:\", image_name, \"Prediction:\", labelName)"
      ],
      "metadata": {
        "id": "3MwI2V01xTMI",
        "colab": {
          "base_uri": "https://localhost:8080/"
        },
        "outputId": "0b97b5b7-14b0-4acc-e555-0e9208974db8"
      },
      "execution_count": 28,
      "outputs": [
        {
          "output_type": "stream",
          "name": "stdout",
          "text": [
            "Image: covid (4).jpeg Prediction: Covid\n",
            "Image: normal (8).jpeg Prediction: Normal\n",
            "Image: covid (2).png Prediction: Covid\n",
            "Image: vPneumonia (12).jpeg Prediction: Viral Pneumonia\n",
            "Image: covid (5).jpg Prediction: Covid\n",
            "Image: normal (6).jpeg Prediction: Normal\n",
            "Image: vPneumonia (14).jpeg Prediction: Viral Pneumonia\n",
            "Image: normal (3).jpeg Prediction: Normal\n",
            "Image: covid (11).jpeg Prediction: Covid\n",
            "Image: vPneumonia (13).jpeg Prediction: Viral Pneumonia\n",
            "Image: covid (2).jpeg Prediction: Covid\n",
            "Image: vPneumonia (8).jpeg Prediction: Viral Pneumonia\n",
            "Image: normal (11) (1).jpeg Prediction: Viral Pneumonia\n",
            "Image: normal (11).jpeg Prediction: Viral Pneumonia\n",
            "Image: normal (13) (1).jpeg Prediction: Viral Pneumonia\n",
            "Image: normal (2).jpeg Prediction: Normal\n",
            "Image: normal (5).jpeg Prediction: Viral Pneumonia\n",
            "Image: vPneumonia (18).jpeg Prediction: Viral Pneumonia\n",
            "Image: covid (5).jpeg Prediction: Covid\n",
            "Image: normal (9).jpeg Prediction: Viral Pneumonia\n",
            "Image: covid (7).jpeg Prediction: Covid\n",
            "Image: covid (2).jpg Prediction: Covid\n",
            "Image: covid (1).jpg Prediction: Covid\n",
            "Image: normal (13).jpeg Prediction: Viral Pneumonia\n",
            "Image: normal (7).jpeg Prediction: Viral Pneumonia\n",
            "Image: vPneumonia (4).jpeg Prediction: Viral Pneumonia\n",
            "Image: covid (3).jpeg Prediction: Covid\n",
            "Image: covid (12).jpeg Prediction: Covid\n",
            "Image: normal (4).jpeg Prediction: Normal\n",
            "Image: vPneumonia (9).jpeg Prediction: Viral Pneumonia\n",
            "Image: covid (4).jpg Prediction: Covid\n",
            "Image: normal (12) (1).jpeg Prediction: Normal\n",
            "Image: covid (10).jpeg Prediction: Covid\n",
            "Image: vPneumonia (11).jpeg Prediction: Viral Pneumonia\n",
            "Image: covid (6).jpg Prediction: Normal\n",
            "Image: vPneumonia (20).jpeg Prediction: Viral Pneumonia\n",
            "Image: vPneumonia (2).jpeg Prediction: Viral Pneumonia\n",
            "Image: vPneumonia (7).jpeg Prediction: Viral Pneumonia\n",
            "Image: vPneumonia (19).jpeg Prediction: Normal\n",
            "Image: covid (9).jpeg Prediction: Covid\n",
            "Image: vPneumonia (17).jpeg Prediction: Normal\n",
            "Image: normal (1).jpeg Prediction: Viral Pneumonia\n",
            "Image: vPneumonia (5).jpeg Prediction: Viral Pneumonia\n",
            "Image: vPneumonia (6).jpeg Prediction: Viral Pneumonia\n",
            "Image: vPneumonia (16).jpeg Prediction: Viral Pneumonia\n",
            "Image: vPneumonia (15).jpeg Prediction: Viral Pneumonia\n",
            "Image: normal (12).jpeg Prediction: Normal\n",
            "Image: covid (6).jpeg Prediction: Covid\n",
            "Image: vPneumonia (10).jpeg Prediction: Normal\n",
            "Image: covid (3).jpg Prediction: Covid\n",
            "Image: vPneumonia (1).jpeg Prediction: Viral Pneumonia\n",
            "Image: covid (8).jpeg Prediction: Covid\n",
            "Image: normal (10).jpeg Prediction: Viral Pneumonia\n",
            "Image: covid (1).jpeg Prediction: Covid\n",
            "Image: covid (3).png Prediction: Covid\n",
            "Image: covid (1).png Prediction: Covid\n",
            "Image: vPneumonia (3).jpeg Prediction: Viral Pneumonia\n"
          ]
        }
      ]
    },
    {
      "cell_type": "code",
      "source": [
        "model.save('covid19model.h5')"
      ],
      "metadata": {
        "id": "87y-kMCNxZpE",
        "colab": {
          "base_uri": "https://localhost:8080/"
        },
        "outputId": "fddacc02-1907-4c19-dd2a-e7fe0d9631f4"
      },
      "execution_count": 29,
      "outputs": [
        {
          "output_type": "stream",
          "name": "stderr",
          "text": [
            "/usr/local/lib/python3.10/dist-packages/keras/src/engine/training.py:3000: UserWarning: You are saving your model as an HDF5 file via `model.save()`. This file format is considered legacy. We recommend using instead the native Keras format, e.g. `model.save('my_model.keras')`.\n",
            "  saving_api.save_model(\n"
          ]
        }
      ]
    },
    {
      "cell_type": "markdown",
      "source": [],
      "metadata": {
        "id": "0fEWlT_zDJ96"
      }
    }
  ]
}